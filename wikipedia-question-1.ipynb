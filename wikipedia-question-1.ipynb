{
 "cells": [
  {
   "cell_type": "markdown",
   "metadata": {},
   "source": [
    "Copyright (C) 2016-2020 Ben Lewis, Morten Wang, Nathan TeBlunthuis, Benjamin Mako Hill<br />\n",
    "Licensed under the MIT license, see ../LICENSE"
   ]
  },
  {
   "cell_type": "markdown",
   "metadata": {},
   "source": [
    "## Question 1: When was the _first_ edit to the Panama Papers? "
   ]
  },
  {
   "cell_type": "code",
   "execution_count": 1,
   "metadata": {},
   "outputs": [],
   "source": [
    "import requests"
   ]
  },
  {
   "cell_type": "code",
   "execution_count": 2,
   "metadata": {},
   "outputs": [],
   "source": [
    "ENDPOINT = 'https://en.wikipedia.org/w/api.php'"
   ]
  },
  {
   "cell_type": "code",
   "execution_count": 3,
   "metadata": {},
   "outputs": [],
   "source": [
    "page_title = 'Panama_Papers'\n",
    "\n",
    "parameters = { 'action' : 'query',\n",
    "               'prop' : 'revisions',\n",
    "               'titles' : page_title,\n",
    "               'format' : 'json',\n",
    "               'rvlimit' : 1,\n",
    "               'rvdir' : 'newer',\n",
    "               'continue' : '' }"
   ]
  },
  {
   "cell_type": "markdown",
   "metadata": {},
   "source": [
    "The parameters stuff is all documented in the [API sandbox](https://en.wikipedia.org/wiki/Special:ApiSandbox). Don't worry about remembering it. Use the reference. \n",
    "\n",
    "* 'action' : 'query'  -- don't worry about this.\n",
    "* 'prop' : 'revisions' -- this means we are asking for information about edits.\n",
    "* 'titles' : 'Panama_Papers' -- this means we want information about the page called \"Panama Papers\". \n",
    "* 'format' : 'json' -- get the response in json, we won't change this. \n",
    "* 'rvlimit' : 1 -- get one revision\n",
    "* 'rvdir' : 'newer' -- this means get the oldest revision first. use 'older' to get the newest edit first.\n",
    "* 'continue' : '' -- we will cover this later!"
   ]
  },
  {
   "cell_type": "code",
   "execution_count": 5,
   "metadata": {},
   "outputs": [],
   "source": [
    "wp_call = requests.get(ENDPOINT, params=parameters)\n",
    "\n",
    "response = wp_call.json()"
   ]
  },
  {
   "cell_type": "code",
   "execution_count": 6,
   "metadata": {},
   "outputs": [
    {
     "data": {
      "text/plain": [
       "{'50034356': {'pageid': 50034356,\n",
       "  'ns': 0,\n",
       "  'title': 'Panama Papers',\n",
       "  'revisions': [{'revid': 713378731,\n",
       "    'parentid': 0,\n",
       "    'user': 'Czar',\n",
       "    'timestamp': '2016-04-03T17:59:05Z',\n",
       "    'comment': 'start'}]}}"
      ]
     },
     "execution_count": 6,
     "metadata": {},
     "output_type": "execute_result"
    }
   ],
   "source": [
    "# The query dictionary holds the response to our \"query\"\n",
    "query = response['query']\n",
    "\n",
    "# The wikipedia api allows to you query about multiple pages\n",
    "# We can ignore this, since we only queried about one page\n",
    "pages = query['pages']\n",
    "pages"
   ]
  },
  {
   "cell_type": "code",
   "execution_count": 7,
   "metadata": {},
   "outputs": [],
   "source": [
    "# get the page we asked for.\n",
    "# this is a little complicated because pages is a dictionary\n",
    "page_keys = list(pages.keys())\n",
    "page_key = page_keys[0]\n",
    "page = pages[page_key]"
   ]
  },
  {
   "cell_type": "code",
   "execution_count": 8,
   "metadata": {},
   "outputs": [
    {
     "name": "stdout",
     "output_type": "stream",
     "text": [
      "First edit to Panama Papers was revision ID 713378731 by Czar on 2016-04-03T17:59:05Z\n"
     ]
    }
   ],
   "source": [
    "# the page dictionary has a 'revisions' item. this has the data revisions that we seek\n",
    "revisions = page['revisions']\n",
    "\n",
    "# we only asked for one revision\n",
    "revision = revisions[0]\n",
    "\n",
    "revid = revision['revid']\n",
    "revuser = revision['user']\n",
    "revdate = revision['timestamp']\n",
    "title = page['title']\n",
    "\n",
    "print('First edit to ' + title + ' was revision ID ' + str(revid) + ' by ' + revuser + ' on ' + revdate)"
   ]
  },
  {
   "cell_type": "code",
   "execution_count": null,
   "metadata": {},
   "outputs": [],
   "source": []
  }
 ],
 "metadata": {
  "kernelspec": {
   "display_name": "Python 3",
   "language": "python",
   "name": "python3"
  },
  "language_info": {
   "codemirror_mode": {
    "name": "ipython",
    "version": 3
   },
   "file_extension": ".py",
   "mimetype": "text/x-python",
   "name": "python",
   "nbconvert_exporter": "python",
   "pygments_lexer": "ipython3",
   "version": "3.7.3"
  }
 },
 "nbformat": 4,
 "nbformat_minor": 2
}
