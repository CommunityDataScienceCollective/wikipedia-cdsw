{
 "cells": [
  {
   "cell_type": "code",
   "execution_count": null,
   "metadata": {},
   "outputs": [],
   "source": [
    "import requests"
   ]
  },
  {
   "cell_type": "code",
   "execution_count": null,
   "metadata": {},
   "outputs": [],
   "source": [
    "ENDPOINT = 'https://en.wikipedia.org/w/api.php'"
   ]
  },
  {
   "cell_type": "code",
   "execution_count": null,
   "metadata": {},
   "outputs": [],
   "source": [
    "\n",
    "parameters = { 'action' : 'query',\n",
    "               'prop' : 'revisions',\n",
    "               'format' : 'json',\n",
    "               'rvdir' : 'older',\n",
    "              'titles' : 'Panama Papers',\n",
    "              'rvlimit' : 'max',\n",
    "               'continue' : '' }"
   ]
  },
  {
   "cell_type": "markdown",
   "metadata": {},
   "source": [
    "Look at the response: see `continue`. This means there are more revisions that are not in the response, but we can get them by loading results one page at a time."
   ]
  },
  {
   "cell_type": "code",
   "execution_count": null,
   "metadata": {},
   "outputs": [],
   "source": [
    "wp_call = requests.get(ENDPOINT, params=parameters)\n",
    "response = wp_call.json()\n",
    "print(response)"
   ]
  },
  {
   "cell_type": "markdown",
   "metadata": {},
   "source": [
    "We need to stop querying the API once it has no more results for us. We will use the `done` variable to keep track. In this example we'll keep track of how many times we call the api in `iteration` and the total number of revisions we've seen in `num_revisions`. "
   ]
  },
  {
   "cell_type": "code",
   "execution_count": null,
   "metadata": {},
   "outputs": [],
   "source": [
    "done = False\n",
    "iteration = 0\n",
    "num_revisions = 0"
   ]
  },
  {
   "cell_type": "markdown",
   "metadata": {},
   "source": [
    "The cell below shows how we page through results.  We just check if the 'continue' key is in the `response` dictionary.  If it is, then we need to  assign the 'continue' and 'rvcontinue' api parameters to the values the API is giving us.  This tells the API to start sending us results from where we left off.  You don't need to remember the details of how this works, but it is important to know that APIs often follow this kind of 'pagination' pattern. "
   ]
  },
  {
   "cell_type": "code",
   "execution_count": null,
   "metadata": {},
   "outputs": [],
   "source": [
    "while not done:\n",
    "    wp_call = requests.get(ENDPOINT, params=parameters)\n",
    "    response = wp_call.json()\n",
    "\n",
    "    if 'continue' in response:\n",
    "        # we need the value of rvcontinue to page through results\n",
    "        parameters['continue']  = response['continue']['continue']\n",
    "        parameters['rvcontinue'] = response['continue']['rvcontinue']\n",
    "    else:\n",
    "        done = True\n",
    "        \n",
    "    query = response['query']\n",
    "    pages = query['pages']\n",
    "    \n",
    "    # get the page\n",
    "    page_keys = list(pages.keys())\n",
    "    page_key = page_keys[0]\n",
    "    page = pages[page_key]\n",
    "\n",
    "    \n",
    "    # now we need to loop over the revisions\n",
    "    revisions = page['revisions']\n",
    "    num_revisions = num_revisions + len(revisions)\n",
    "        \n",
    "    print(f'iteration: {iteration}, num_revisions: {num_revisions}')\n",
    "    iteration = iteration + 1"
   ]
  },
  {
   "cell_type": "code",
   "execution_count": null,
   "metadata": {},
   "outputs": [],
   "source": []
  }
 ],
 "metadata": {
  "kernelspec": {
   "display_name": "Python 3",
   "language": "python",
   "name": "python3"
  },
  "language_info": {
   "codemirror_mode": {
    "name": "ipython",
    "version": 3
   },
   "file_extension": ".py",
   "mimetype": "text/x-python",
   "name": "python",
   "nbconvert_exporter": "python",
   "pygments_lexer": "ipython3",
   "version": "3.7.3"
  }
 },
 "nbformat": 4,
 "nbformat_minor": 2
}
