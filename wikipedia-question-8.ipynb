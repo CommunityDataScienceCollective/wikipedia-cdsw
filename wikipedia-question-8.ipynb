{
 "cells": [
  {
   "cell_type": "markdown",
   "metadata": {},
   "source": [
    "Copyright (C) 2016-2020 Ben Lewis, Morten Wang, Benjamin Mako Hill<br />\n",
    "Licensed under the MIT license, see ../LICENSE"
   ]
  },
  {
   "cell_type": "markdown",
   "metadata": {},
   "source": [
    "### Question 8: How many views did Panama_Papers have… the day it was created?"
   ]
  },
  {
   "cell_type": "code",
   "execution_count": 1,
   "metadata": {},
   "outputs": [],
   "source": [
    "import requests\n",
    "from urllib.parse import quote"
   ]
  },
  {
   "cell_type": "markdown",
   "metadata": {},
   "source": [
    "### Notes:\n",
    "1. Documentation is online at: https://wikimedia.org/api/rest_v1/?doc\n",
    "2. There is no view data for 20160403, bug?"
   ]
  },
  {
   "cell_type": "code",
   "execution_count": 2,
   "metadata": {},
   "outputs": [],
   "source": [
    "ENDPOINT = 'https://wikimedia.org/api/rest_v1/metrics/pageviews/per-article/'\n",
    "\n",
    "wp_code = 'en.wikipedia'\n",
    "access = 'all-access'\n",
    "agents = 'all-agents'\n",
    "page_title = 'Panama Papers'\n",
    "period = 'daily'\n",
    "start_date = '20160404'\n",
    "end_date = '20160404'"
   ]
  },
  {
   "cell_type": "code",
   "execution_count": 3,
   "metadata": {},
   "outputs": [
    {
     "data": {
      "text/plain": [
       "{'items': [{'project': 'en.wikipedia',\n",
       "   'article': 'Panama_Papers',\n",
       "   'granularity': 'daily',\n",
       "   'timestamp': '2016040400',\n",
       "   'access': 'all-access',\n",
       "   'agent': 'all-agents',\n",
       "   'views': 387524}]}"
      ]
     },
     "execution_count": 3,
     "metadata": {},
     "output_type": "execute_result"
    }
   ],
   "source": [
    "wp_call = requests.get(ENDPOINT + wp_code + '/' + access + '/' + agents + '/' + quote(page_title, safe='') + '/' + period + '/' + start_date + '/' + end_date)\n",
    "response = wp_call.json()\n",
    "response"
   ]
  },
  {
   "cell_type": "code",
   "execution_count": 4,
   "metadata": {},
   "outputs": [
    {
     "name": "stdout",
     "output_type": "stream",
     "text": [
      "Panama Papers had 387524 page views the first day\n"
     ]
    }
   ],
   "source": [
    "print(page_title + ' had ' + str(response['items'][0]['views']) + ' page views the first day')"
   ]
  },
  {
   "cell_type": "code",
   "execution_count": null,
   "metadata": {},
   "outputs": [],
   "source": []
  }
 ],
 "metadata": {
  "kernelspec": {
   "display_name": "Python 3",
   "language": "python",
   "name": "python3"
  },
  "language_info": {
   "codemirror_mode": {
    "name": "ipython",
    "version": 3
   },
   "file_extension": ".py",
   "mimetype": "text/x-python",
   "name": "python",
   "nbconvert_exporter": "python",
   "pygments_lexer": "ipython3",
   "version": "3.7.3"
  }
 },
 "nbformat": 4,
 "nbformat_minor": 2
}
