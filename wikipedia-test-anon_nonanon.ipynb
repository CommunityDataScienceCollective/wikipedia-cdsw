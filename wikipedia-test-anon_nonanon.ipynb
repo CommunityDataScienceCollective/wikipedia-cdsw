{
 "cells": [
  {
   "cell_type": "markdown",
   "metadata": {},
   "source": [
    "Copyright (C) 2016-2020 Ben Lewis, Morten Wang, Benjamin Mako Hill<br />\n",
    "Licensed under the MIT license, see ../LICENSE"
   ]
  },
  {
   "cell_type": "code",
   "execution_count": null,
   "metadata": {},
   "outputs": [],
   "source": [
    "import requests"
   ]
  },
  {
   "cell_type": "code",
   "execution_count": null,
   "metadata": {},
   "outputs": [],
   "source": [
    "ENDPOINT = \"https://en.wikipedia.org/w/api.php\"\n",
    "\n",
    "parameters = { 'action' : 'query',\n",
    "               'prop' : 'revisions',\n",
    "               'titles' : 'Python (programming language)',\n",
    "               'rvlimit' : 500,\n",
    "               'rvprop' : 'timestamp|user',\n",
    "               'format' : 'json',\n",
    "               'continue' : '' }"
   ]
  },
  {
   "cell_type": "code",
   "execution_count": null,
   "metadata": {},
   "outputs": [],
   "source": [
    "logged_in_editors = {}\n",
    "anon_editors = {}\n",
    "counter = 0"
   ]
  },
  {
   "cell_type": "code",
   "execution_count": null,
   "metadata": {},
   "outputs": [],
   "source": [
    "done = False\n",
    "while not done:\n",
    "    wp_call = requests.get(ENDPOINT, params=parameters)\n",
    "    response = wp_call.json()\n",
    "    print (\"pulling data iteration {0}\".format(counter))\n",
    "    for page in response['query']['pages']:\n",
    "        if 'revisions' in response['query']['pages'][page]:\n",
    "            for rev in response['query']['pages'][page]['revisions']:\n",
    "                if 'anon' in rev:\n",
    "                    if rev['user'] in anon_editors:\n",
    "                        anon_editors[rev['user']] = anon_editors[rev['user']] + 1\n",
    "                    else:\n",
    "                        anon_editors[rev['user']] = 1\n",
    "                else:\n",
    "                    if rev['user'] in logged_in_editors:\n",
    "                        logged_in_editors[rev['user']] = logged_in_editors[rev['user']] + 1\n",
    "                    else:\n",
    "                        logged_in_editors[rev['user']] = 1\n",
    "\n",
    "    if 'continue' in response:\n",
    "        parameters['continue'] = response['continue']['continue']\n",
    "        parameters['rvcontinue'] = response['continue']['rvcontinue']\n",
    "    else:\n",
    "        done = True\n",
    "    counter = counter + 1"
   ]
  },
  {
   "cell_type": "code",
   "execution_count": null,
   "metadata": {},
   "outputs": [],
   "source": [
    "print(\"Anonymous editors:\")\n",
    "anon_editors"
   ]
  },
  {
   "cell_type": "code",
   "execution_count": null,
   "metadata": {},
   "outputs": [],
   "source": [
    "print(\"Logged in editors:\")\n",
    "logged_in_editors"
   ]
  },
  {
   "cell_type": "code",
   "execution_count": null,
   "metadata": {},
   "outputs": [],
   "source": []
  }
 ],
 "metadata": {
  "kernelspec": {
   "display_name": "Python 3",
   "language": "python",
   "name": "python3"
  },
  "language_info": {
   "codemirror_mode": {
    "name": "ipython",
    "version": 3
   },
   "file_extension": ".py",
   "mimetype": "text/x-python",
   "name": "python",
   "nbconvert_exporter": "python",
   "pygments_lexer": "ipython3",
   "version": "3.7.3"
  }
 },
 "nbformat": 4,
 "nbformat_minor": 2
}
