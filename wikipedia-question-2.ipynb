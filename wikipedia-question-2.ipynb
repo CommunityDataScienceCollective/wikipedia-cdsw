{
 "cells": [
  {
   "cell_type": "markdown",
   "metadata": {},
   "source": [
    "Copyright (C) 2016-2020 Ben Lewis, Morten Wang, Benjamin Mako Hill<br />\n",
    "Licensed under the MIT license, see ../LICENSE"
   ]
  },
  {
   "cell_type": "markdown",
   "metadata": {},
   "source": [
    "### Question 1: When was the first edit to the panama papers wikipedia article?"
   ]
  },
  {
   "cell_type": "code",
   "execution_count": null,
   "metadata": {},
   "outputs": [],
   "source": [
    "import requests"
   ]
  },
  {
   "cell_type": "code",
   "execution_count": null,
   "metadata": {},
   "outputs": [],
   "source": [
    "ENDPOINT = 'https://en.wikipedia.org/w/api.php'"
   ]
  },
  {
   "cell_type": "code",
   "execution_count": null,
   "metadata": {},
   "outputs": [],
   "source": [
    "page_title = 'Panama_Papers'\n",
    "\n",
    "parameters = { 'action' : 'query',\n",
    "               'prop' : 'revisions',\n",
    "               'titles' : page_title,\n",
    "               'format' : 'json',\n",
    "               'rvlimit' : 500,\n",
    "               'rvdir' : 'newer',\n",
    "               'continue' : '' }"
   ]
  },
  {
   "cell_type": "markdown",
   "metadata": {},
   "source": [
    "The parameters stuff is all documented in the API sandbox. Don't worry about remembering it. Use the reference. \n",
    "\n",
    "* 'action' : 'query'  -- don't worry about this.\n",
    "* 'prop' : 'revisions' -- this means we are asking for information about edits.\n",
    "* 'titles' : 'Panama_Papers' -- this means we want information about the page called \"Panama Papers\". \n",
    "* 'format' : 'json' -- get the response in json, we won't change this. \n",
    "* 'rvlimit' : 1 -- get one revision\n",
    "* 'rvdir' : 'newer' -- this means get the oldest revision first. use 'older' to get the newest edit first.\n",
    "* 'continue' : '' -- we will cover this later!"
   ]
  },
  {
   "cell_type": "code",
   "execution_count": null,
   "metadata": {},
   "outputs": [],
   "source": [
    "num_revisions = 0"
   ]
  },
  {
   "cell_type": "code",
   "execution_count": null,
   "metadata": {},
   "outputs": [],
   "source": [
    "wp_call = requests.get(ENDPOINT, params=parameters)\n",
    "\n",
    "response = wp_call.json()\n",
    "response"
   ]
  },
  {
   "cell_type": "code",
   "execution_count": null,
   "metadata": {},
   "outputs": [],
   "source": [
    "# we can get all the revisions by looping until we don't see continue in the response any more\n",
    "# introduce while loop\n",
    "done = False\n",
    "while not done:\n",
    "    wp_call = requests.get(ENDPOINT, params=parameters)\n",
    "    response = wp_call.json()\n",
    "    print(response)\n",
    "    \n",
    "    # we need to copy the values the API gave us to continue\n",
    "    if 'continue' in response:\n",
    "        parameters['continue'] = response['continue']['continue']\n",
    "        parameters['rvcontinue'] = response['continue']['rvcontinue']\n",
    "    else:\n",
    "        done = True"
   ]
  },
  {
   "cell_type": "code",
   "execution_count": null,
   "metadata": {},
   "outputs": [],
   "source": [
    "# The query dictionary holds the response to our \"query\"\n",
    "query = response['query']\n",
    "\n",
    "# The wikipedia api allows to you query about multiple pages\n",
    "# We can ignore this, since we only queried about one page\n",
    "pages = query['pages']\n",
    "pages"
   ]
  },
  {
   "cell_type": "code",
   "execution_count": null,
   "metadata": {},
   "outputs": [],
   "source": [
    "# get the page we asked for.\n",
    "# this is a little complicated because pages is a dictionary\n",
    "page_keys = list(pages.keys())\n",
    "page_key = page_keys[0]\n",
    "page = pages[page_key]"
   ]
  },
  {
   "cell_type": "code",
   "execution_count": null,
   "metadata": {},
   "outputs": [],
   "source": [
    "# the page dictionary has a 'revisions' item. this has the data revisions that we seek\n",
    "revisions = page['revisions']\n",
    "\n",
    "# we only asked for one revision\n",
    "revision = revisions[len(revisions) - 1]\n",
    "revision"
   ]
  },
  {
   "cell_type": "code",
   "execution_count": null,
   "metadata": {},
   "outputs": [],
   "source": [
    "revid = revision['revid']\n",
    "revuser = revision['user']\n",
    "revdate = revision['timestamp']\n",
    "title = page['title']\n",
    "\n",
    "print('First most recent edit to ' + title + ' was revision ID ' + str(revid) + ' by ' + revuser + ' on ' + revdate)"
   ]
  },
  {
   "cell_type": "code",
   "execution_count": null,
   "metadata": {},
   "outputs": [],
   "source": []
  }
 ],
 "metadata": {
  "kernelspec": {
   "display_name": "Python 3",
   "language": "python",
   "name": "python3"
  },
  "language_info": {
   "codemirror_mode": {
    "name": "ipython",
    "version": 3
   },
   "file_extension": ".py",
   "mimetype": "text/x-python",
   "name": "python",
   "nbconvert_exporter": "python",
   "pygments_lexer": "ipython3",
   "version": "3.7.3"
  }
 },
 "nbformat": 4,
 "nbformat_minor": 2
}
